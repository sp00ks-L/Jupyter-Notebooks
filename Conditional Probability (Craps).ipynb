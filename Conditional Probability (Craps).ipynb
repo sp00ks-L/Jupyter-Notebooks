{
 "cells": [
  {
   "cell_type": "markdown",
   "metadata": {},
   "source": [
    "<h3>The probability of immediately winning</h3>\n",
    "<br/>\n",
    "An immediate win or a 'natural' occurs if the player rolls either a 7 or an 11.<a href=\"https://www.codecogs.com/eqnedit.php?latex=P(7)&space;&plus;&space;P(11)&space;=&space;\\frac{6}{36}&space;&plus;&space;\\frac{2}{36}&space;=&space;\\frac{2}{9}\" target=\"_blank\"><img src=\"https://latex.codecogs.com/gif.latex?P(7)&space;&plus;&space;P(11)&space;=&space;\\frac{6}{36}&space;&plus;&space;\\frac{2}{36}&space;=&space;\\frac{2}{9}\" title=\"P(7) + P(11) = \\frac{6}{36} + \\frac{2}{36} = \\frac{2}{9}\" /></a>"
   ]
  },
  {
   "cell_type": "markdown",
   "metadata": {},
   "source": [
    "<h3>The probability of immediately losing</h3>\n",
    "<br/>\n",
    "An immediate loss or rolling 'craps' occurs if the player rolls either a 2, 3 or 12. <a href=\"https://www.codecogs.com/eqnedit.php?latex=P(2)&space;&plus;&space;P(3)&space;&plus;&space;P(12)&space;=&space;\\frac{1}{36}&space;&plus;&space;\\frac{2}{36}&space;&plus;&space;\\frac{1}{36}&space;=&space;\\frac{1}{9}\" target=\"_blank\"><img src=\"https://latex.codecogs.com/gif.latex?P(2)&space;&plus;&space;P(3)&space;&plus;&space;P(12)&space;=&space;\\frac{1}{36}&space;&plus;&space;\\frac{2}{36}&space;&plus;&space;\\frac{1}{36}&space;=&space;\\frac{1}{9}\" title=\"P(2) + P(3) + P(12) = \\frac{1}{36} + \\frac{2}{36} + \\frac{1}{36} = \\frac{1}{9}\" /></a>\n",
    "<br/>\n",
    "These probabilitites show that on the first roll, there is a higher chance the player will win and this is reflected on the graph.\n",
    "<h3>Games Won or Lost on the first roll </h3>\n",
    "<br/>\n",
    "Wins: 2235\n",
    "<br/>\n",
    "Losses: 1170\n",
    "<br/>\n",
    "Win Rate: 65.6%\n",
    "\n",
    "This win rate is siginificantly higher than the calculated probability of winning in a game of craps"
   ]
  },
  {
   "cell_type": "markdown",
   "metadata": {},
   "source": [
    "After the first roll, I used the conditional probability formula to calculate the probabilities of the other outcomes in the game of craps.\n",
    "\n",
    "<a href=\"https://www.codecogs.com/eqnedit.php?latex=P(A&space;|&space;B)&space;=&space;\\frac{P(A&space;\\cap&space;B)}{P(B)}\" target=\"_blank\"><img src=\"https://latex.codecogs.com/gif.latex?P(A&space;|&space;B)&space;=&space;\\frac{P(A&space;\\cap&space;B)}{P(B)}\" title=\"P(A | B) = \\frac{P(A \\cap B)}{P(B)}\" /></a>\n",
    "\n",
    "<br/>"
   ]
  },
  {
   "cell_type": "code",
   "execution_count": 3,
   "metadata": {},
   "outputs": [],
   "source": [
    "def prob(a, b):\n",
    "    return  a * (a / b)"
   ]
  },
  {
   "cell_type": "code",
   "execution_count": 8,
   "metadata": {},
   "outputs": [],
   "source": [
    "# Probability of Rolling a certain score\n",
    "p1 =  0\n",
    "p2 =  1 / 36\n",
    "p3 =  1 / 18\n",
    "p4 =  3 / 36\n",
    "p5 =  1 / 9\n",
    "p6 =  5 / 36\n",
    "p7 =  1 / 6\n",
    "p8 =  5 / 36\n",
    "p9 =  1 / 9\n",
    "p10 = 3 / 36\n",
    "p11 = 2 / 36\n",
    "p12 = 1 / 36\n",
    "\n",
    "# Probabilities of 'neutral' rolls (neither meaning win or loss)\n",
    "probabilities = {4: p4, 5: p5, 6: p6, 8: p8, 9: p9, 10: p10}"
   ]
  },
  {
   "cell_type": "code",
   "execution_count": 9,
   "metadata": {},
   "outputs": [
    {
     "name": "stdout",
     "output_type": "stream",
     "text": [
      "Rolling a 4:\t0.028\n",
      "Rolling a 5:\t0.044\n",
      "Rolling a 6:\t0.063\n",
      "Rolling a 8:\t0.063\n",
      "Rolling a 9:\t0.044\n",
      "Rolling a 10:\t0.028\n"
     ]
    }
   ],
   "source": [
    "for k, v in probs.items():\n",
    "    print(f\"Rolling a {k}:\\t{round(prob(v, v + p7), 3)}\")"
   ]
  },
  {
   "cell_type": "code",
   "execution_count": 14,
   "metadata": {},
   "outputs": [
    {
     "name": "stdout",
     "output_type": "stream",
     "text": [
      "The probability of winning: 49.3\n"
     ]
    }
   ],
   "source": [
    "# 2 / 9 is the probability of rolling a 7 or 11 on the first roll\n",
    "p_winning = 2 / 9\n",
    "for p in probabilities.values():\n",
    "    p_winning += prob(p, p + p7)    \n",
    "    \n",
    "print(f\"The probability of winning: {round(p_winning * 100, 1)}%\")"
   ]
  },
  {
   "cell_type": "code",
   "execution_count": null,
   "metadata": {},
   "outputs": [],
   "source": []
  }
 ],
 "metadata": {
  "kernelspec": {
   "display_name": "Python 3",
   "language": "python",
   "name": "python3"
  },
  "language_info": {
   "codemirror_mode": {
    "name": "ipython",
    "version": 3
   },
   "file_extension": ".py",
   "mimetype": "text/x-python",
   "name": "python",
   "nbconvert_exporter": "python",
   "pygments_lexer": "ipython3",
   "version": "3.7.4"
  }
 },
 "nbformat": 4,
 "nbformat_minor": 2
}
